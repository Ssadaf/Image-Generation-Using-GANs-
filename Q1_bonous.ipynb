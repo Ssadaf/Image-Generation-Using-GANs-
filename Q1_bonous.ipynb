{
  "nbformat": 4,
  "nbformat_minor": 0,
  "metadata": {
    "colab": {
      "name": "Q1-bonous.ipynb",
      "provenance": [],
      "collapsed_sections": []
    },
    "kernelspec": {
      "name": "python3",
      "display_name": "Python 3"
    },
    "accelerator": "GPU"
  },
  "cells": [
    {
      "cell_type": "code",
      "metadata": {
        "id": "lIwcqAFrol3V",
        "colab_type": "code",
        "colab": {
          "base_uri": "https://localhost:8080/",
          "height": 52
        },
        "outputId": "f2c28dd0-e042-4ca0-e477-f47f65edbaf8"
      },
      "source": [
        "%tensorflow_version 1.x\n",
        "import os\n",
        "import cv2 \n",
        "from PIL import Image \n",
        "import matplotlib.pyplot as plt\n",
        "import keras\n",
        "from keras.layers import Conv2D, Conv2DTranspose, Input, Flatten, Dense, Dropout, Reshape, Lambda\n",
        "from keras.layers import BatchNormalization\n",
        "from keras.models import Model\n",
        "from keras.datasets import mnist\n",
        "from keras.losses import binary_crossentropy\n",
        "from keras import backend as K\n",
        "import numpy as np\n",
        "import matplotlib.pyplot as plt"
      ],
      "execution_count": null,
      "outputs": [
        {
          "output_type": "stream",
          "text": [
            "TensorFlow 1.x selected.\n"
          ],
          "name": "stdout"
        },
        {
          "output_type": "stream",
          "text": [
            "Using TensorFlow backend.\n"
          ],
          "name": "stderr"
        }
      ]
    },
    {
      "cell_type": "markdown",
      "metadata": {
        "id": "INSDLdZ_iB9l",
        "colab_type": "text"
      },
      "source": [
        "# Downloding dataset and preproccessing"
      ]
    },
    {
      "cell_type": "markdown",
      "metadata": {
        "id": "ZUgoDBuKoyRn",
        "colab_type": "text"
      },
      "source": [
        "The the picture must be at least 32 * 32 with 3 channels, so after scaling the picture we resize it."
      ]
    },
    {
      "cell_type": "code",
      "metadata": {
        "id": "5ZSnqzM1ozxo",
        "colab_type": "code",
        "colab": {
          "base_uri": "https://localhost:8080/",
          "height": 34
        },
        "outputId": "7f104a17-e6d6-4bc1-9ef5-48b285852fd3"
      },
      "source": [
        "(x_train, y_train), (_, _) = mnist.load_data()\n",
        "\n",
        "num_classes = 10\n",
        "y_train = keras.utils.to_categorical(y_train, num_classes)\n",
        "\n",
        "x_train = x_train.astype('float32')\n",
        "\n",
        "x_train = np.array([i / 255 for i in x_train])\n",
        "\n",
        "x_train = np.array([np.pad(x_train[i], ((0,4),(0,4)), 'constant', constant_values=0) for i in range(len(x_train))])\n",
        "\n",
        "X_train = np.full((60000, 32, 32, 3), 0.0)\n",
        "\n",
        "for i, s in enumerate(x_train):\n",
        "    X_train[i] = cv2.cvtColor(s, cv2.COLOR_GRAY2RGB)\n",
        "\n",
        "X_train.shape, y_train.shape"
      ],
      "execution_count": null,
      "outputs": [
        {
          "output_type": "execute_result",
          "data": {
            "text/plain": [
              "((60000, 32, 32, 3), (60000, 10))"
            ]
          },
          "metadata": {
            "tags": []
          },
          "execution_count": 4
        }
      ]
    },
    {
      "cell_type": "markdown",
      "metadata": {
        "id": "NRpKpnSnipAT",
        "colab_type": "text"
      },
      "source": [
        "## Simple visualization for mnist dataset"
      ]
    },
    {
      "cell_type": "markdown",
      "metadata": {
        "id": "3iGcQu8nisXN",
        "colab_type": "text"
      },
      "source": [
        "After reshaping and normalizing lets see a couple of pictures from dataset."
      ]
    },
    {
      "cell_type": "code",
      "metadata": {
        "id": "g2JHPtcyiUEj",
        "colab_type": "code",
        "colab": {
          "base_uri": "https://localhost:8080/",
          "height": 593
        },
        "outputId": "a6cda7f0-746a-4bb0-ea9f-ca744f78a39c"
      },
      "source": [
        "from mpl_toolkits.axes_grid1 import ImageGrid\n",
        "fig = plt.figure(figsize=(20, 10))\n",
        "grid = ImageGrid(fig, 111,\n",
        "                nrows_ncols=(4,4),\n",
        "                axes_pad=0.01,)\n",
        "\n",
        "for i in range(16):\n",
        "    grid[i].imshow(X_train[i])"
      ],
      "execution_count": null,
      "outputs": [
        {
          "output_type": "display_data",
          "data": {
            "image/png": "[encoded data removed]",
            "text/plain": [
              "<Figure size 1440x720 with 32 Axes>"
            ]
          },
          "metadata": {
            "tags": [],
            "needs_background": "light"
          }
        }
      ]
    },
    {
      "cell_type": "markdown",
      "metadata": {
        "id": "Eearq4vIpt9B",
        "colab_type": "text"
      },
      "source": [
        "#Encoder"
      ]
    },
    {
      "cell_type": "markdown",
      "metadata": {
        "id": "iQZ_9gmbi_mm",
        "colab_type": "text"
      },
      "source": [
        "## Transfer Learning"
      ]
    },
    {
      "cell_type": "markdown",
      "metadata": {
        "id": "ez3lnO-3jMFI",
        "colab_type": "text"
      },
      "source": [
        "Using EfficientB3 and loading `imagenet` weights."
      ]
    },
    {
      "cell_type": "code",
      "metadata": {
        "id": "8WvJ94Aj7jOw",
        "colab_type": "code",
        "colab": {}
      },
      "source": [
        "!pip install -U git+https://github.com/qubvel/efficientnet\n",
        "!pip install keras_efficientnets"
      ],
      "execution_count": null,
      "outputs": []
    },
    {
      "cell_type": "code",
      "metadata": {
        "id": "qU7tK5tLD750",
        "colab_type": "code",
        "colab": {
          "base_uri": "https://localhost:8080/",
          "height": 90
        },
        "outputId": "99954e5f-b069-488a-d77f-b79ccf492dae"
      },
      "source": [
        "from keras_efficientnets import EfficientNetB3\n",
        "from keras import optimizers\n",
        "\n",
        "model = EfficientNetB3(include_top=False,\n",
        "    weights=\"imagenet\",\n",
        "    input_shape=(32, 32, 3))\n",
        "\n",
        "model.compile(optimizers.RMSprop(lr=0.0001, decay=1e-6),loss='categorical_crossentropy',metrics=['accuracy'])\n",
        "\n",
        "# model.summary()"
      ],
      "execution_count": null,
      "outputs": [
        {
          "output_type": "stream",
          "text": [
            "WARNING:tensorflow:From /tensorflow-1.15.2/python3.6/tensorflow_core/python/ops/resource_variable_ops.py:1630: calling BaseResourceVariable.__init__ (from tensorflow.python.ops.resource_variable_ops) with constraint is deprecated and will be removed in a future version.\n",
            "Instructions for updating:\n",
            "If using Keras pass *_constraint arguments to layers.\n"
          ],
          "name": "stdout"
        }
      ]
    },
    {
      "cell_type": "markdown",
      "metadata": {
        "id": "JyO7lc1npIhT",
        "colab_type": "text"
      },
      "source": [
        "Now we create out encoder part using the previously loaded Efficientnet.\n",
        "\n",
        "The rest is pretty much like the normal VAE design."
      ]
    },
    {
      "cell_type": "code",
      "metadata": {
        "id": "pKEJlnOS8aNk",
        "colab_type": "code",
        "colab": {}
      },
      "source": [
        "def sampler(args):\n",
        "\n",
        "  mu, sigma = args\n",
        "  \n",
        "  batch = K.shape(mu)[0]\n",
        "  dim_latent = mu.shape[1]\n",
        "  \n",
        "  eps = K.random_normal(shape=(batch, dim_latent))\n",
        "  \n",
        "  return mu + K.exp(sigma / 2) * eps"
      ],
      "execution_count": null,
      "outputs": []
    },
    {
      "cell_type": "markdown",
      "metadata": {
        "id": "65wXv68NpYPw",
        "colab_type": "text"
      },
      "source": [
        "Like the first part, we choose our latent dimension to be 2.\n",
        "\n",
        "And since EfficientNet is already trained, `model.trainable` is set to `False`.\n",
        "\n",
        "A summary of the encoder part can be seen."
      ]
    },
    {
      "cell_type": "code",
      "metadata": {
        "id": "d7v2gNs9LZCy",
        "colab_type": "code",
        "colab": {
          "base_uri": "https://localhost:8080/",
          "height": 461
        },
        "outputId": "928b7cdc-b70c-4b5e-e4ea-1bced076fb65"
      },
      "source": [
        "latent_dim = 2\n",
        "model.trainable = False\n",
        "\n",
        "input = Input(shape=(32, 32, 3 ), name='input')\n",
        "x = model(input)\n",
        "x = Flatten()(x)\n",
        "x = Dense(1024, activation=\"relu\")(x)\n",
        "x = Dropout(0.5)(x)\n",
        "mu = Dense(latent_dim, name='mean')(x)\n",
        "sigma = Dense(latent_dim, name='variance')(x)\n",
        "z = Lambda(sampler, output_shape=(latent_dim, ), name='sampler')([mu, sigma])\n",
        "\n",
        "model_final = Model(input, [mu, sigma, z], name='encoder')\n",
        "model_final.summary()"
      ],
      "execution_count": null,
      "outputs": [
        {
          "output_type": "stream",
          "text": [
            "Model: \"encoder\"\n",
            "__________________________________________________________________________________________________\n",
            "Layer (type)                    Output Shape         Param #     Connected to                     \n",
            "==================================================================================================\n",
            "input (InputLayer)              (None, 32, 32, 3)    0                                            \n",
            "__________________________________________________________________________________________________\n",
            "model_1 (Model)                 (None, 1, 1, 1536)   10783528    input[0][0]                      \n",
            "__________________________________________________________________________________________________\n",
            "flatten_1 (Flatten)             (None, 1536)         0           model_1[1][0]                    \n",
            "__________________________________________________________________________________________________\n",
            "dense_1 (Dense)                 (None, 1024)         1573888     flatten_1[0][0]                  \n",
            "__________________________________________________________________________________________________\n",
            "dropout_1 (Dropout)             (None, 1024)         0           dense_1[0][0]                    \n",
            "__________________________________________________________________________________________________\n",
            "mean (Dense)                    (None, 2)            2050        dropout_1[0][0]                  \n",
            "__________________________________________________________________________________________________\n",
            "variance (Dense)                (None, 2)            2050        dropout_1[0][0]                  \n",
            "__________________________________________________________________________________________________\n",
            "sampler (Lambda)                (None, 2)            0           mean[0][0]                       \n",
            "                                                                 variance[0][0]                   \n",
            "==================================================================================================\n",
            "Total params: 12,361,516\n",
            "Trainable params: 1,577,988\n",
            "Non-trainable params: 10,783,528\n",
            "__________________________________________________________________________________________________\n"
          ],
          "name": "stdout"
        }
      ]
    },
    {
      "cell_type": "code",
      "metadata": {
        "id": "ZaiCZX30OwMz",
        "colab_type": "code",
        "colab": {}
      },
      "source": [
        "def kl_reconstruction_loss(true, pred):\n",
        "  # Reconstruction loss\n",
        "  reconstruction_loss = binary_crossentropy(K.flatten(true), K.flatten(pred)) * ( 32 * 32)\n",
        "  \n",
        "  # KL divergence loss\n",
        "  kl_loss = -1 - sigma + K.square(mu) + K.exp(sigma)\n",
        "  kl_loss = 0.5 * K.sum(kl_loss, axis=-1)\n",
        "  \n",
        "  # Total loss = 50% rec + 50% KL divergence loss\n",
        "  return 0.5 * reconstruction_loss + 0.5 * kl_loss"
      ],
      "execution_count": null,
      "outputs": []
    },
    {
      "cell_type": "markdown",
      "metadata": {
        "id": "TQa9ITwvpyNx",
        "colab_type": "text"
      },
      "source": [
        "# Decoder"
      ]
    },
    {
      "cell_type": "markdown",
      "metadata": {
        "id": "Q6vRLGLKp2e3",
        "colab_type": "text"
      },
      "source": [
        "The decoder is almost identicall to the decoder of the last part.\n",
        "\n",
        "And a summary of the model can be seen later on."
      ]
    },
    {
      "cell_type": "code",
      "metadata": {
        "id": "zDD0RdUfNuHq",
        "colab_type": "code",
        "colab": {
          "base_uri": "https://localhost:8080/",
          "height": 372
        },
        "outputId": "b742d801-8751-46d5-a69c-9032e00d0352"
      },
      "source": [
        "d_input = Input(shape=(latent_dim, ), name='decoder_input')\n",
        "x = Dense(100, activation='relu', name='dense_decoder_1')(d_input)\n",
        "x = Dense(32 * 32 , activation='relu', name='dense_decoder_2')(x)\n",
        "x = Reshape((32, 32, 1), name='reshape_decoder')(x)\n",
        "x = Conv2D(20, kernel_size=(5,5), padding=\"same\",  name='conv')(x)\n",
        "out = Dense(3, activation='relu', name='output')(x)\n",
        "\n",
        "decoder = Model(d_input, out, name='decoder')\n",
        "decoder.compile(optimizer='adam', loss=kl_reconstruction_loss)\n",
        "decoder.summary()"
      ],
      "execution_count": null,
      "outputs": [
        {
          "output_type": "stream",
          "text": [
            "Model: \"decoder\"\n",
            "_________________________________________________________________\n",
            "Layer (type)                 Output Shape              Param #   \n",
            "=================================================================\n",
            "decoder_input (InputLayer)   (None, 2)                 0         \n",
            "_________________________________________________________________\n",
            "dense_decoder_1 (Dense)      (None, 100)               300       \n",
            "_________________________________________________________________\n",
            "dense_decoder_2 (Dense)      (None, 1024)              103424    \n",
            "_________________________________________________________________\n",
            "reshape_decoder (Reshape)    (None, 32, 32, 1)         0         \n",
            "_________________________________________________________________\n",
            "conv (Conv2D)                (None, 32, 32, 20)        520       \n",
            "_________________________________________________________________\n",
            "output (Dense)               (None, 32, 32, 3)         63        \n",
            "=================================================================\n",
            "Total params: 104,307\n",
            "Trainable params: 104,307\n",
            "Non-trainable params: 0\n",
            "_________________________________________________________________\n"
          ],
          "name": "stdout"
        }
      ]
    },
    {
      "cell_type": "markdown",
      "metadata": {
        "id": "fJbiDrnc9LjU",
        "colab_type": "text"
      },
      "source": [
        "# VAE"
      ]
    },
    {
      "cell_type": "markdown",
      "metadata": {
        "id": "NDH5IKB9qHto",
        "colab_type": "text"
      },
      "source": [
        "After creating encoder and decoder its time to compile the VAE as a whole."
      ]
    },
    {
      "cell_type": "code",
      "metadata": {
        "id": "p1DjSuHAj4Eg",
        "colab_type": "code",
        "colab": {}
      },
      "source": [
        "def show_sample(decoder):\n",
        "    fig = plt.figure(figsize=(20, 10))\n",
        "    grid = ImageGrid(fig, 111,\n",
        "                 nrows_ncols=(10,10),\n",
        "                 axes_pad=0.01,)\n",
        "\n",
        "    for _ in range(100):\n",
        "        x = np.random.uniform(-10, 10, size=(2))\n",
        "        x_decoded = decoder.predict(np.array([x]))\n",
        "        digit = x_decoded[0].reshape(32, 32 ,3)\n",
        "        grid[_].imshow(digit)\n",
        "\n",
        "show_sample(decoder)\n",
        "plt.show()"
      ],
      "execution_count": null,
      "outputs": []
    },
    {
      "cell_type": "code",
      "metadata": {
        "id": "uLh9_RJc9Kx9",
        "colab_type": "code",
        "colab": {
          "base_uri": "https://localhost:8080/",
          "height": 265
        },
        "outputId": "2930507e-2479-4972-8178-2e5764bd531a"
      },
      "source": [
        "vae = Model(input, decoder(model_final(input)[2]), name='vae')\n",
        "vae.summary()"
      ],
      "execution_count": null,
      "outputs": [
        {
          "output_type": "stream",
          "text": [
            "Model: \"vae\"\n",
            "_________________________________________________________________\n",
            "Layer (type)                 Output Shape              Param #   \n",
            "=================================================================\n",
            "input (InputLayer)           (None, 32, 32, 3)         0         \n",
            "_________________________________________________________________\n",
            "encoder (Model)              [(None, 2), (None, 2), (N 12361516  \n",
            "_________________________________________________________________\n",
            "decoder (Model)              (None, 32, 32, 3)         104307    \n",
            "=================================================================\n",
            "Total params: 12,465,823\n",
            "Trainable params: 1,682,295\n",
            "Non-trainable params: 10,783,528\n",
            "_________________________________________________________________\n"
          ],
          "name": "stdout"
        }
      ]
    },
    {
      "cell_type": "markdown",
      "metadata": {
        "id": "Ml4ovxD5qS7K",
        "colab_type": "text"
      },
      "source": [
        "## Compile and Train"
      ]
    },
    {
      "cell_type": "markdown",
      "metadata": {
        "id": "mP6w3JK4qXwW",
        "colab_type": "text"
      },
      "source": [
        "40 epochs seems to be good enough.\n",
        "\n",
        "Using `kl reconstruction loss` the VAE is compiled."
      ]
    },
    {
      "cell_type": "code",
      "metadata": {
        "id": "BmPrbdSB9zs9",
        "colab_type": "code",
        "colab": {}
      },
      "source": [
        "import tensorflow as tf\n",
        "batch_size = 128\n",
        "n_epochs = 40\n",
        "validation_split = 0.2\n",
        "\n",
        "vae.compile(optimizer='adam', loss=kl_reconstruction_loss)"
      ],
      "execution_count": null,
      "outputs": []
    },
    {
      "cell_type": "code",
      "metadata": {
        "id": "8PHlycZFOBvV",
        "colab_type": "code",
        "colab": {}
      },
      "source": [
        "history = []\n",
        "for _ in range(4):\n",
        "    history.append(vae.fit(X_train, X_train, epochs = n_epochs//4, batch_size = batch_size, validation_split = 0.2, shuffle=True))\n",
        "    show_sample(decoder)\n",
        "    plt.show()"
      ],
      "execution_count": null,
      "outputs": []
    },
    {
      "cell_type": "markdown",
      "metadata": {
        "id": "A-jkEQ9ZqjU8",
        "colab_type": "text"
      },
      "source": [
        "## Loss plot"
      ]
    },
    {
      "cell_type": "code",
      "metadata": {
        "id": "GK4XXai6OeG4",
        "colab_type": "code",
        "colab": {
          "base_uri": "https://localhost:8080/",
          "height": 294
        },
        "outputId": "900f5dfc-cf3f-40a7-95a4-bba3684793dd"
      },
      "source": [
        "  def show_train_loss_history(trained, title=None, show_validation=True):\n",
        "    x1 = []\n",
        "    x2 = []\n",
        "    for i in trained:\n",
        "        for j in i.history['loss']:\n",
        "            x1.append(j)\n",
        "        for j in i.history['val_loss']:\n",
        "            x2.append(j)\n",
        "    \n",
        "    plt.plot(x1)\n",
        "    if(show_validation):\n",
        "      plt.plot(x2)      \n",
        "      plt.legend(['train_loss', 'validation_loss'])\n",
        "    plt.ylabel('loss')\n",
        "    plt.xlabel('epoch')\n",
        "    if(title):\n",
        "      plt.title(title)\n",
        "    plt.show()\n",
        "\n",
        "show_train_loss_history(history, \"Training Loss Plot\")"
      ],
      "execution_count": null,
      "outputs": [
        {
          "output_type": "display_data",
          "data": {
            "image/png": "[encoded data removed]",
            "text/plain": [
              "<Figure size 432x288 with 1 Axes>"
            ]
          },
          "metadata": {
            "tags": [],
            "needs_background": "light"
          }
        }
      ]
    },
    {
      "cell_type": "code",
      "metadata": {
        "id": "PCalbOyOQM0V",
        "colab_type": "code",
        "colab": {}
      },
      "source": [
        ""
      ],
      "execution_count": null,
      "outputs": []
    }
  ]
}