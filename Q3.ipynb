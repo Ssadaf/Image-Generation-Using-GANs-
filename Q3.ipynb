{
  "nbformat": 4,
  "nbformat_minor": 0,
  "metadata": {
    "colab": {
      "name": "Q3.ipynb",
      "provenance": [],
      "collapsed_sections": []
    },
    "kernelspec": {
      "name": "python3",
      "display_name": "Python 3"
    },
    "accelerator": "GPU"
  },
  "cells": [
    {
      "cell_type": "code",
      "metadata": {
        "id": "YbDB6Ud0sY9N",
        "colab_type": "code",
        "colab": {
          "base_uri": "https://localhost:8080/",
          "height": 122
        },
        "outputId": "08b6f0c7-0fe2-46d2-a4b2-83548070cf1d"
      },
      "source": [
        "from google.colab import drive\n",
        "drive.mount('/content/gdrive')"
      ],
      "execution_count": null,
      "outputs": [
        {
          "output_type": "stream",
          "text": [
            "Go to this URL in a browser: https://accounts.google.com/o/oauth2/auth?client_id=947318989803-6bn6qk8qdgf4n4g3pfee6491hc0brc4i.apps.googleusercontent.com&redirect_uri=urn%3aietf%3awg%3aoauth%3a2.0%3aoob&response_type=code&scope=email%20https%3a%2f%2fwww.googleapis.com%2fauth%2fdocs.test%20https%3a%2f%2fwww.googleapis.com%2fauth%2fdrive%20https%3a%2f%2fwww.googleapis.com%2fauth%2fdrive.photos.readonly%20https%3a%2f%2fwww.googleapis.com%2fauth%2fpeopleapi.readonly\n",
            "\n",
            "Enter your authorization code:\n",
            "··········\n",
            "Mounted at /content/gdrive\n"
          ],
          "name": "stdout"
        }
      ]
    },
    {
      "cell_type": "code",
      "metadata": {
        "id": "t92hvgCF8Loa",
        "colab_type": "code",
        "colab": {
          "base_uri": "https://localhost:8080/",
          "height": 34
        },
        "outputId": "362f1f7f-9343-491f-c5fd-530fa6467c86"
      },
      "source": [
        "import os\n",
        "import cv2 \n",
        "import matplotlib.pyplot as plt\n",
        "import keras\n",
        "from keras.layers import Conv2D, Conv2DTranspose, Input, Flatten, Dense, Lambda, Reshape, LeakyReLU, Activation, UpSampling2D, Concatenate, BatchNormalization\n",
        "from keras.models import Model, Sequential\n",
        "from keras.datasets import cifar10\n",
        "from keras.losses import binary_crossentropy\n",
        "from keras import backend as K\n",
        "import numpy as np\n",
        "import matplotlib.pyplot as plt\n",
        "from keras.utils import np_utils\n",
        "from keras.optimizers import Adam\n",
        "from keras.preprocessing import image\n",
        "from mpl_toolkits.axes_grid1 import ImageGrid"
      ],
      "execution_count": null,
      "outputs": [
        {
          "output_type": "stream",
          "text": [
            "Using TensorFlow backend.\n"
          ],
          "name": "stderr"
        }
      ]
    },
    {
      "cell_type": "markdown",
      "metadata": {
        "id": "RpRG5waTXj54",
        "colab_type": "text"
      },
      "source": [
        "# Load CIFAR10 Dataset"
      ]
    },
    {
      "cell_type": "markdown",
      "metadata": {
        "id": "QBkjgemZaArU",
        "colab_type": "text"
      },
      "source": [
        "First of all, we load CIFAR10 which is part of the Keras Datasets.</br>\n",
        "We set noise size to 100."
      ]
    },
    {
      "cell_type": "code",
      "metadata": {
        "id": "72PdqHIPZYG4",
        "colab_type": "code",
        "colab": {}
      },
      "source": [
        "noise_size = 100\n",
        "num_classes = 10"
      ],
      "execution_count": null,
      "outputs": []
    },
    {
      "cell_type": "code",
      "metadata": {
        "id": "D_JNelwkFZFH",
        "colab_type": "code",
        "colab": {
          "base_uri": "https://localhost:8080/",
          "height": 51
        },
        "outputId": "1a4fdb2f-3f5b-4430-8565-52a91a641313"
      },
      "source": [
        "(x_train, y_train), (x_test, y_test) = cifar10.load_data()"
      ],
      "execution_count": null,
      "outputs": [
        {
          "output_type": "stream",
          "text": [
            "Downloading data from https://www.cs.toronto.edu/~kriz/cifar-10-python.tar.gz\n",
            "170500096/170498071 [==============================] - 3s 0us/step\n"
          ],
          "name": "stdout"
        }
      ]
    },
    {
      "cell_type": "markdown",
      "metadata": {
        "id": "SFC-TfCEXmw5",
        "colab_type": "text"
      },
      "source": [
        "# Data Preprocessing"
      ]
    },
    {
      "cell_type": "markdown",
      "metadata": {
        "id": "VbrbPxfsa8P5",
        "colab_type": "text"
      },
      "source": [
        "For data preprocessing phase, we normalize data for better results and faster training. Then we convert labels from integers to one hot labels."
      ]
    },
    {
      "cell_type": "code",
      "metadata": {
        "id": "OMmRFtpBYjQN",
        "colab_type": "code",
        "colab": {
          "base_uri": "https://localhost:8080/",
          "height": 34
        },
        "outputId": "b3ab3aa3-8caf-43a1-f7cf-6519faabad72"
      },
      "source": [
        "# Normalize data\n",
        "x_train = (x_train - 127.5) / 127.5\n",
        "print (\"x_train shape\", x_train.shape)"
      ],
      "execution_count": null,
      "outputs": [
        {
          "output_type": "stream",
          "text": [
            "x_train shape (50000, 32, 32, 3)\n"
          ],
          "name": "stdout"
        }
      ]
    },
    {
      "cell_type": "code",
      "metadata": {
        "id": "kPklCOJHarFN",
        "colab_type": "code",
        "colab": {}
      },
      "source": [
        "def encode_one_hot(labels):\n",
        "  out = np.zeros((len(labels), num_classes))\n",
        "  idx = np.arange(len(labels))\n",
        "  out[idx, labels] = 1\n",
        "  return out\n",
        "\n",
        "y_train = encode_one_hot(y_train[:,0])"
      ],
      "execution_count": null,
      "outputs": []
    },
    {
      "cell_type": "markdown",
      "metadata": {
        "id": "Er9OYoLPHhG5",
        "colab_type": "text"
      },
      "source": [
        "# Generator"
      ]
    },
    {
      "cell_type": "markdown",
      "metadata": {
        "id": "H4AO08nUe6-X",
        "colab_type": "text"
      },
      "source": [
        "The generator consists of one dense layer, four conv2d layer and two conv2d transpose layer with LeakyReLU and the last layer is con2d with tanh activation function."
      ]
    },
    {
      "cell_type": "code",
      "metadata": {
        "id": "JOD2Eh3vOFla",
        "colab_type": "code",
        "colab": {}
      },
      "source": [
        "def get_generator(input, condition):\n",
        "  \n",
        "  merged_input = Concatenate()([input, condition])  \n",
        "  \n",
        "  x = Dense(128 * 8 * 8, activation='relu')(merged_input)    \n",
        "  x = BatchNormalization(momentum=0.9)(x)\n",
        "  x = LeakyReLU(alpha=0.1)(x)\n",
        "  x = Reshape((8, 8, 128))(x)\n",
        "  \n",
        "  x = Conv2D(128, kernel_size=4, strides=1,padding='same')(x)\n",
        "  x = BatchNormalization(momentum=0.9)(x)    \n",
        "  x = LeakyReLU(alpha=0.1)(x)\n",
        "  \n",
        "  x = Conv2DTranspose(128, 4, strides=2, padding='same')(x)\n",
        "  x = BatchNormalization(momentum=0.9)(x)\n",
        "  x = LeakyReLU(alpha=0.1)(x)\n",
        "  \n",
        "  x = Conv2D(128, kernel_size=5, strides=1,padding='same')(x)\n",
        "  x = BatchNormalization(momentum=0.9)(x)    \n",
        "  x = LeakyReLU(alpha=0.1)(x)\n",
        "  \n",
        "  x = Conv2DTranspose(128, 4, strides=2, padding='same')(x)\n",
        "  x = BatchNormalization(momentum=0.9)(x)\n",
        "  x = LeakyReLU(alpha=0.1)(x)\n",
        "  \n",
        "  x = Conv2D(128, kernel_size=5, strides=1, padding='same')(x)\n",
        "  x = BatchNormalization(momentum=0.9)(x)\n",
        "  x = LeakyReLU(alpha=0.1)(x)\n",
        "  \n",
        "  x = Conv2D(128, kernel_size=5, strides=1, padding='same')(x)\n",
        "  x = BatchNormalization(momentum=0.9)(x)\n",
        "  x = LeakyReLU(alpha=0.1)(x)\n",
        "                      \n",
        "  x = Conv2D(3, kernel_size=5, strides=1, padding=\"same\")(x)\n",
        "  out = Activation(\"tanh\")(x)\n",
        "\n",
        "  gen = Model(inputs=[input, condition], outputs=out)\n",
        "  gen.summary()\n",
        "  \n",
        "  return gen, out"
      ],
      "execution_count": null,
      "outputs": []
    },
    {
      "cell_type": "markdown",
      "metadata": {
        "id": "hdlayFYwnDs3",
        "colab_type": "text"
      },
      "source": [
        "# Discriminator"
      ]
    },
    {
      "cell_type": "markdown",
      "metadata": {
        "id": "1ODFFTExiiQh",
        "colab_type": "text"
      },
      "source": [
        "Then we define the Discriminator part.</br>\n",
        "The discriminator consists of all convoloutional layers with LeakyReLU with 0.1 parameter with stride 2 and Batch Normalization on every layer and the activation function of the last layer is sigmoid."
      ]
    },
    {
      "cell_type": "code",
      "metadata": {
        "id": "PFvbb7GLh_z3",
        "colab_type": "code",
        "colab": {}
      },
      "source": [
        "def get_discriminator(input, condition):\n",
        "  \n",
        "  x = Conv2D(128, kernel_size=3, strides=1, padding='same')(input)\n",
        "  x = BatchNormalization(momentum=0.9)(x)\n",
        "  x = LeakyReLU(alpha=0.1)(x)\n",
        "  \n",
        "  x = Conv2D(128, kernel_size=4, strides=2, padding='same')(x)\n",
        "  x = BatchNormalization(momentum=0.9)(x)\n",
        "  x = LeakyReLU(alpha=0.1)(x)\n",
        "  \n",
        "  x = Conv2D(128, kernel_size=4, strides=2, padding='same')(x)\n",
        "  x = BatchNormalization(momentum=0.9)(x)\n",
        "  x = LeakyReLU(alpha=0.1)(x)\n",
        "  \n",
        "  x = Conv2D(128, kernel_size=4, strides=2, padding='same')(x)\n",
        "  x = BatchNormalization(momentum=0.9)(x)\n",
        "  x = LeakyReLU(alpha=0.1)(x)\n",
        "  x = Flatten()(x)\n",
        "  \n",
        "  merged = Concatenate()([x, condition])\n",
        "  x = Dense(512, activation='relu')(merged)\n",
        "  out = Dense(1, activation='sigmoid')(x)\n",
        "  \n",
        "  disc = Model(inputs=[input, condition], outputs=out)\n",
        "  disc.summary()\n",
        "  \n",
        "  return disc, out"
      ],
      "execution_count": null,
      "outputs": []
    },
    {
      "cell_type": "markdown",
      "metadata": {
        "id": "6T-sFCEXsIgc",
        "colab_type": "text"
      },
      "source": [
        "# CGAN"
      ]
    },
    {
      "cell_type": "markdown",
      "metadata": {
        "id": "BbwjtwoAjCp0",
        "colab_type": "text"
      },
      "source": [
        "First we compile discriminator with binary cross entropy and Adam optimizer."
      ]
    },
    {
      "cell_type": "code",
      "metadata": {
        "id": "p33QRlkDsy4P",
        "colab_type": "code",
        "colab": {
          "base_uri": "https://localhost:8080/",
          "height": 782
        },
        "outputId": "1014c844-90d3-459b-a2df-281ff5810859"
      },
      "source": [
        "img_input = Input(shape=(32,32,3))\n",
        "disc_condition = Input(shape=(num_classes,))\n",
        "discriminator, disc_out = get_discriminator(img_input, disc_condition)\n",
        "discriminator.compile(optimizer=Adam(0.0002, 0.5), loss='binary_crossentropy', metrics=['accuracy'])\n",
        "\n",
        "discriminator.trainable = False"
      ],
      "execution_count": null,
      "outputs": [
        {
          "output_type": "stream",
          "text": [
            "Model: \"model_1\"\n",
            "__________________________________________________________________________________________________\n",
            "Layer (type)                    Output Shape         Param #     Connected to                     \n",
            "==================================================================================================\n",
            "input_1 (InputLayer)            (None, 32, 32, 3)    0                                            \n",
            "__________________________________________________________________________________________________\n",
            "conv2d_1 (Conv2D)               (None, 32, 32, 128)  3584        input_1[0][0]                    \n",
            "__________________________________________________________________________________________________\n",
            "batch_normalization_1 (BatchNor (None, 32, 32, 128)  512         conv2d_1[0][0]                   \n",
            "__________________________________________________________________________________________________\n",
            "leaky_re_lu_1 (LeakyReLU)       (None, 32, 32, 128)  0           batch_normalization_1[0][0]      \n",
            "__________________________________________________________________________________________________\n",
            "conv2d_2 (Conv2D)               (None, 16, 16, 128)  262272      leaky_re_lu_1[0][0]              \n",
            "__________________________________________________________________________________________________\n",
            "batch_normalization_2 (BatchNor (None, 16, 16, 128)  512         conv2d_2[0][0]                   \n",
            "__________________________________________________________________________________________________\n",
            "leaky_re_lu_2 (LeakyReLU)       (None, 16, 16, 128)  0           batch_normalization_2[0][0]      \n",
            "__________________________________________________________________________________________________\n",
            "conv2d_3 (Conv2D)               (None, 8, 8, 128)    262272      leaky_re_lu_2[0][0]              \n",
            "__________________________________________________________________________________________________\n",
            "batch_normalization_3 (BatchNor (None, 8, 8, 128)    512         conv2d_3[0][0]                   \n",
            "__________________________________________________________________________________________________\n",
            "leaky_re_lu_3 (LeakyReLU)       (None, 8, 8, 128)    0           batch_normalization_3[0][0]      \n",
            "__________________________________________________________________________________________________\n",
            "conv2d_4 (Conv2D)               (None, 4, 4, 128)    262272      leaky_re_lu_3[0][0]              \n",
            "__________________________________________________________________________________________________\n",
            "batch_normalization_4 (BatchNor (None, 4, 4, 128)    512         conv2d_4[0][0]                   \n",
            "__________________________________________________________________________________________________\n",
            "leaky_re_lu_4 (LeakyReLU)       (None, 4, 4, 128)    0           batch_normalization_4[0][0]      \n",
            "__________________________________________________________________________________________________\n",
            "flatten_1 (Flatten)             (None, 2048)         0           leaky_re_lu_4[0][0]              \n",
            "__________________________________________________________________________________________________\n",
            "input_2 (InputLayer)            (None, 10)           0                                            \n",
            "__________________________________________________________________________________________________\n",
            "concatenate_1 (Concatenate)     (None, 2058)         0           flatten_1[0][0]                  \n",
            "                                                                 input_2[0][0]                    \n",
            "__________________________________________________________________________________________________\n",
            "dense_1 (Dense)                 (None, 512)          1054208     concatenate_1[0][0]              \n",
            "__________________________________________________________________________________________________\n",
            "dense_2 (Dense)                 (None, 1)            513         dense_1[0][0]                    \n",
            "==================================================================================================\n",
            "Total params: 1,847,169\n",
            "Trainable params: 1,846,145\n",
            "Non-trainable params: 1,024\n",
            "__________________________________________________________________________________________________\n"
          ],
          "name": "stdout"
        }
      ]
    },
    {
      "cell_type": "markdown",
      "metadata": {
        "id": "laK_EbLvkZoz",
        "colab_type": "text"
      },
      "source": [
        "Then we compile generator using binary cross entropy and Adam optimizer."
      ]
    },
    {
      "cell_type": "code",
      "metadata": {
        "id": "hRZUkM6Yi1Lf",
        "colab_type": "code",
        "colab": {
          "base_uri": "https://localhost:8080/",
          "height": 1000
        },
        "outputId": "c84a663e-3341-40d3-c8c0-2f32cf89ab10"
      },
      "source": [
        "noise_input = Input(shape=(noise_size,))\n",
        "gen_condition = Input(shape=(num_classes,))\n",
        "generator, gen_out = get_generator(noise_input, gen_condition)"
      ],
      "execution_count": null,
      "outputs": [
        {
          "output_type": "stream",
          "text": [
            "Model: \"model_2\"\n",
            "__________________________________________________________________________________________________\n",
            "Layer (type)                    Output Shape         Param #     Connected to                     \n",
            "==================================================================================================\n",
            "input_3 (InputLayer)            (None, 100)          0                                            \n",
            "__________________________________________________________________________________________________\n",
            "input_4 (InputLayer)            (None, 10)           0                                            \n",
            "__________________________________________________________________________________________________\n",
            "concatenate_2 (Concatenate)     (None, 110)          0           input_3[0][0]                    \n",
            "                                                                 input_4[0][0]                    \n",
            "__________________________________________________________________________________________________\n",
            "dense_3 (Dense)                 (None, 8192)         909312      concatenate_2[0][0]              \n",
            "__________________________________________________________________________________________________\n",
            "batch_normalization_5 (BatchNor (None, 8192)         32768       dense_3[0][0]                    \n",
            "__________________________________________________________________________________________________\n",
            "leaky_re_lu_5 (LeakyReLU)       (None, 8192)         0           batch_normalization_5[0][0]      \n",
            "__________________________________________________________________________________________________\n",
            "reshape_1 (Reshape)             (None, 8, 8, 128)    0           leaky_re_lu_5[0][0]              \n",
            "__________________________________________________________________________________________________\n",
            "conv2d_5 (Conv2D)               (None, 8, 8, 128)    262272      reshape_1[0][0]                  \n",
            "__________________________________________________________________________________________________\n",
            "batch_normalization_6 (BatchNor (None, 8, 8, 128)    512         conv2d_5[0][0]                   \n",
            "__________________________________________________________________________________________________\n",
            "leaky_re_lu_6 (LeakyReLU)       (None, 8, 8, 128)    0           batch_normalization_6[0][0]      \n",
            "__________________________________________________________________________________________________\n",
            "conv2d_transpose_1 (Conv2DTrans (None, 16, 16, 128)  262272      leaky_re_lu_6[0][0]              \n",
            "__________________________________________________________________________________________________\n",
            "batch_normalization_7 (BatchNor (None, 16, 16, 128)  512         conv2d_transpose_1[0][0]         \n",
            "__________________________________________________________________________________________________\n",
            "leaky_re_lu_7 (LeakyReLU)       (None, 16, 16, 128)  0           batch_normalization_7[0][0]      \n",
            "__________________________________________________________________________________________________\n",
            "conv2d_6 (Conv2D)               (None, 16, 16, 128)  409728      leaky_re_lu_7[0][0]              \n",
            "__________________________________________________________________________________________________\n",
            "batch_normalization_8 (BatchNor (None, 16, 16, 128)  512         conv2d_6[0][0]                   \n",
            "__________________________________________________________________________________________________\n",
            "leaky_re_lu_8 (LeakyReLU)       (None, 16, 16, 128)  0           batch_normalization_8[0][0]      \n",
            "__________________________________________________________________________________________________\n",
            "conv2d_transpose_2 (Conv2DTrans (None, 32, 32, 128)  262272      leaky_re_lu_8[0][0]              \n",
            "__________________________________________________________________________________________________\n",
            "batch_normalization_9 (BatchNor (None, 32, 32, 128)  512         conv2d_transpose_2[0][0]         \n",
            "__________________________________________________________________________________________________\n",
            "leaky_re_lu_9 (LeakyReLU)       (None, 32, 32, 128)  0           batch_normalization_9[0][0]      \n",
            "__________________________________________________________________________________________________\n",
            "conv2d_7 (Conv2D)               (None, 32, 32, 128)  409728      leaky_re_lu_9[0][0]              \n",
            "__________________________________________________________________________________________________\n",
            "batch_normalization_10 (BatchNo (None, 32, 32, 128)  512         conv2d_7[0][0]                   \n",
            "__________________________________________________________________________________________________\n",
            "leaky_re_lu_10 (LeakyReLU)      (None, 32, 32, 128)  0           batch_normalization_10[0][0]     \n",
            "__________________________________________________________________________________________________\n",
            "conv2d_8 (Conv2D)               (None, 32, 32, 128)  409728      leaky_re_lu_10[0][0]             \n",
            "__________________________________________________________________________________________________\n",
            "batch_normalization_11 (BatchNo (None, 32, 32, 128)  512         conv2d_8[0][0]                   \n",
            "__________________________________________________________________________________________________\n",
            "leaky_re_lu_11 (LeakyReLU)      (None, 32, 32, 128)  0           batch_normalization_11[0][0]     \n",
            "__________________________________________________________________________________________________\n",
            "conv2d_9 (Conv2D)               (None, 32, 32, 3)    9603        leaky_re_lu_11[0][0]             \n",
            "__________________________________________________________________________________________________\n",
            "activation_1 (Activation)       (None, 32, 32, 3)    0           conv2d_9[0][0]                   \n",
            "==================================================================================================\n",
            "Total params: 2,970,755\n",
            "Trainable params: 2,952,835\n",
            "Non-trainable params: 17,920\n",
            "__________________________________________________________________________________________________\n"
          ],
          "name": "stdout"
        }
      ]
    },
    {
      "cell_type": "markdown",
      "metadata": {
        "id": "a8-l5yYUjr8c",
        "colab_type": "text"
      },
      "source": [
        "Finally we construct the whole CGAN which consists of the generator and the discriminator. Then we compile CGAN using binary cross entropy and Adam optimizer."
      ]
    },
    {
      "cell_type": "code",
      "metadata": {
        "id": "O6dXFQMLs2sK",
        "colab_type": "code",
        "colab": {
          "base_uri": "https://localhost:8080/",
          "height": 411
        },
        "outputId": "f99b0b50-f01f-4d2f-fd25-af37fc436a03"
      },
      "source": [
        "gan_input = Input(shape=(noise_size,))\n",
        "x = generator([gan_input, gen_condition])\n",
        "gan_out = discriminator([x, disc_condition])\n",
        "\n",
        "cgan = Model(inputs=[gan_input, gen_condition, disc_condition], output=gan_out)\n",
        "cgan.summary()\n",
        "\n",
        "cgan.compile(optimizer=Adam(0.0002, 0.5), loss='binary_crossentropy')"
      ],
      "execution_count": null,
      "outputs": [
        {
          "output_type": "stream",
          "text": [
            "Model: \"model_3\"\n",
            "__________________________________________________________________________________________________\n",
            "Layer (type)                    Output Shape         Param #     Connected to                     \n",
            "==================================================================================================\n",
            "input_5 (InputLayer)            (None, 100)          0                                            \n",
            "__________________________________________________________________________________________________\n",
            "input_4 (InputLayer)            (None, 10)           0                                            \n",
            "__________________________________________________________________________________________________\n",
            "model_2 (Model)                 (None, 32, 32, 3)    2970755     input_5[0][0]                    \n",
            "                                                                 input_4[0][0]                    \n",
            "__________________________________________________________________________________________________\n",
            "input_2 (InputLayer)            (None, 10)           0                                            \n",
            "__________________________________________________________________________________________________\n",
            "model_1 (Model)                 (None, 1)            1847169     model_2[1][0]                    \n",
            "                                                                 input_2[0][0]                    \n",
            "==================================================================================================\n",
            "Total params: 4,817,924\n",
            "Trainable params: 2,952,835\n",
            "Non-trainable params: 1,865,089\n",
            "__________________________________________________________________________________________________\n"
          ],
          "name": "stdout"
        },
        {
          "output_type": "stream",
          "text": [
            "/usr/local/lib/python3.6/dist-packages/ipykernel_launcher.py:5: UserWarning: Update your `Model` call to the Keras 2 API: `Model(inputs=[<tf.Tenso..., outputs=Tensor(\"mo...)`\n",
            "  \"\"\"\n"
          ],
          "name": "stderr"
        }
      ]
    },
    {
      "cell_type": "markdown",
      "metadata": {
        "id": "4uIv45lFXKtX",
        "colab_type": "text"
      },
      "source": [
        "# Train Model"
      ]
    },
    {
      "cell_type": "markdown",
      "metadata": {
        "id": "3mbjLBUKkx0D",
        "colab_type": "text"
      },
      "source": [
        "Number of Epochs is 70.</br>\n",
        "Batch size is 32."
      ]
    },
    {
      "cell_type": "code",
      "metadata": {
        "id": "l_MAKHx4U-Jb",
        "colab_type": "code",
        "colab": {}
      },
      "source": [
        "batch_size = 32\n",
        "num_epochs = 70\n",
        "\n",
        "class_labels = ['Airplane', 'Automobile', 'Bird', 'Cat', 'Deer', 'Dog', 'Frog', 'Horse', 'Ship', 'Truck']"
      ],
      "execution_count": null,
      "outputs": []
    },
    {
      "cell_type": "markdown",
      "metadata": {
        "id": "ApUuK0Uwk-14",
        "colab_type": "text"
      },
      "source": [
        "Now we define a some helper functions: </br>\n",
        "Gen_noise function generates a normal noise. </br>\n",
        "Gen_label function generates a random one hot label. </br>\n",
        "Show_samples function plots a generated instance of each class. </br>\n",
        "Plot10x10res function plots a 10x10 grid that each row includes generated instances of one of the classes."
      ]
    },
    {
      "cell_type": "code",
      "metadata": {
        "id": "haYO8vRAeUf5",
        "colab_type": "code",
        "colab": {}
      },
      "source": [
        "def gen_noise(batch_size, noise_dim=100):\n",
        "   x = np.random.normal(0, 1.0, (batch_size, noise_dim))\n",
        "   return x\n",
        "\n",
        "def gen_label(num):\n",
        "  y = np.random.choice(num_classes, num)\n",
        "  y = encode_one_hot(y)\n",
        "  return y\n",
        "\n",
        "def show_samples(e):\n",
        "  fig, axs = plt.subplots(2, 5, figsize=(15,6))\n",
        "  plt.subplots_adjust(hspace=0.3, wspace=0.3)\n",
        "  for i in range(10):\n",
        "    label = encode_one_hot([i])\n",
        "    noise = gen_noise(1)\n",
        "    gen_img = generator.predict([noise, label])\n",
        "    img = image.array_to_img(gen_img[0], scale=True)\n",
        "    axs[i//5, i%5].imshow(img)\n",
        "    axs[i//5, i%5].set_title(class_labels[i])\n",
        "  plt.show()\n",
        "  name = 'pic' + str(e) + '.png'\n",
        "  fig.savefig('gdrive/My Drive/MiniProj3/Result3/Run4/'+name)\n",
        "\n",
        "def plot10x10res(gen, e):\n",
        "  fig = plt.figure(figsize=(15, 15))\n",
        "  grid = ImageGrid(fig, 111, nrows_ncols=(10,10), axes_pad=0.01,)\n",
        "\n",
        "  for i in range(100):\n",
        "    l = i // 10\n",
        "    label = encode_one_hot([l])\n",
        "    noise = gen_noise(1)\n",
        "    gen_img = gen.predict([noise, label])\n",
        "    pic = image.array_to_img(gen_img[0], scale=True)\n",
        "\n",
        "    grid[i].imshow(pic)\n",
        "  name = 'pic_final'+ str(e) +'.png'\n",
        "  fig.savefig('gdrive/My Drive/MiniProj3/Result3/Run4/'+name)"
      ],
      "execution_count": null,
      "outputs": []
    },
    {
      "cell_type": "markdown",
      "metadata": {
        "id": "1HZLBRLqmeh9",
        "colab_type": "text"
      },
      "source": [
        "For each epoch, at first we train discriminator with real and fake samples and then train the GAN while freezing the weights of discriminator part."
      ]
    },
    {
      "cell_type": "code",
      "metadata": {
        "id": "tsxRdwZgbmlq",
        "colab_type": "code",
        "colab": {}
      },
      "source": [
        "real = np.ones(shape=(batch_size, 1))\n",
        "fake = np.zeros(shape=(batch_size, 1))\n",
        "\n",
        "d_loss = []\n",
        "g_loss = []\n",
        "\n",
        "for e in range(num_epochs):  \n",
        "  for i in range(len(x_train) // batch_size):\n",
        "\n",
        "    # Train Discriminator weights\n",
        "    discriminator.trainable = True\n",
        "\n",
        "    # Real samples\n",
        "    images = x_train[i*batch_size : (i+1)*batch_size]\n",
        "    labels = y_train[i*batch_size : (i+1)*batch_size]\n",
        "    d_loss_real = discriminator.train_on_batch(x=[images, labels], y=real)\n",
        "\n",
        "    # Fake Samples\n",
        "    noise_data = gen_noise(batch_size)\n",
        "    random_labels = gen_label(batch_size)\n",
        "    generated_images = generator.predict([noise_data, random_labels])\n",
        "    d_loss_fake = discriminator.train_on_batch(x=[generated_images, random_labels], y=fake)\n",
        "\n",
        "    # Discriminator loss  \n",
        "    d_loss_batch = 0.5 * (d_loss_real[0] + d_loss_fake[0])\n",
        "    \n",
        "    # Train Generator weights\n",
        "    discriminator.trainable = False\n",
        "    noise_data = gen_noise(batch_size)\n",
        "    random_labels = gen_label(batch_size)\n",
        "    g_loss_batch = cgan.train_on_batch(x=[noise_data, random_labels, random_labels], y=real)\n",
        "    \n",
        "  d_loss.append(d_loss_batch)\n",
        "  g_loss.append(g_loss_batch)\n",
        "  print('epoch = %d/%d, d_loss=%.3f, g_loss=%.3f' % (e + 1, num_epochs, d_loss[-1], g_loss[-1]), 100*' ')\n",
        "\n",
        "  if (e+1) % 5 == 0:\n",
        "    show_samples(e)\n",
        "  if (e+1)%10 == 0:\n",
        "    plot10x10res(generator, (e+1)//10)"
      ],
      "execution_count": null,
      "outputs": []
    },
    {
      "cell_type": "markdown",
      "metadata": {
        "id": "ZJFz99CymnA8",
        "colab_type": "text"
      },
      "source": [
        "# Loss Figures"
      ]
    },
    {
      "cell_type": "markdown",
      "metadata": {
        "id": "1JLups9Smzsd",
        "colab_type": "text"
      },
      "source": [
        "Now using the vectors we have saved in the last part, we plot the loss figures."
      ]
    },
    {
      "cell_type": "code",
      "metadata": {
        "id": "S5FlmccksAx2",
        "colab_type": "code",
        "colab": {
          "base_uri": "https://localhost:8080/",
          "height": 295
        },
        "outputId": "829b22d4-0230-4e98-9391-2cfa622e2c88"
      },
      "source": [
        "plt.plot(d_loss)\n",
        "plt.plot(g_loss)\n",
        "plt.title('Model loss')\n",
        "plt.ylabel('Loss')\n",
        "plt.xlabel('Epoch')\n",
        "plt.legend(['Discriminator', 'Generator'])\n",
        "plt.show()"
      ],
      "execution_count": null,
      "outputs": [
        {
          "output_type": "display_data",
          "data": {
            "image/png": "[encoded data removed]",
            "text/plain": [
              "<Figure size 432x288 with 1 Axes>"
            ]
          },
          "metadata": {
            "tags": [],
            "needs_background": "light"
          }
        }
      ]
    },
    {
      "cell_type": "code",
      "metadata": {
        "id": "f3BRNtqhiqXJ",
        "colab_type": "code",
        "colab": {
          "base_uri": "https://localhost:8080/",
          "height": 51
        },
        "outputId": "a220818f-3926-4662-8298-63bb36b35f46"
      },
      "source": [
        "!nvidia-smi --query-gpu=gpu_name,driver_version,memory.total --format=csv"
      ],
      "execution_count": null,
      "outputs": [
        {
          "output_type": "stream",
          "text": [
            "name, driver_version, memory.total [MiB]\n",
            "Tesla T4, 418.67, 15079 MiB\n"
          ],
          "name": "stdout"
        }
      ]
    },
    {
      "cell_type": "code",
      "metadata": {
        "id": "XifX0amQmTV2",
        "colab_type": "code",
        "colab": {}
      },
      "source": [
        ""
      ],
      "execution_count": null,
      "outputs": []
    }
  ]
}